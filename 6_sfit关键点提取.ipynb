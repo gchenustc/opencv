{
 "cells": [
  {
   "cell_type": "code",
   "execution_count": 1,
   "metadata": {},
   "outputs": [],
   "source": [
    "import cv2\n",
    "import numpy as np\n",
    "\n",
    "def cv_show(img,name=\"image\"):\n",
    "    cv2.imshow(name,img)\n",
    "    cv2.waitKey() #ms 不输入代表任意键销毁窗口\n",
    "    cv2.destroyAllWindows()"
   ]
  },
  {
   "cell_type": "code",
   "execution_count": 13,
   "metadata": {},
   "outputs": [
    {
     "name": "stdout",
     "output_type": "stream",
     "text": [
      "[<KeyPoint 000001C622824FC0>, <KeyPoint 000001C622532990>, <KeyPoint 000001C622532A20>]\n"
     ]
    }
   ],
   "source": [
    "img = cv2.imread(\"01_Picture/18_House.jpg\")\n",
    "gray = cv2.cvtColor(img, cv2.COLOR_BGR2GRAY)\n",
    "\n",
    "sift = cv2.xfeatures2d.SIFT_create()\n",
    "kp = sift.detect(gray, None) # None为mask=None\n",
    "print(kp[:3])\n",
    "\n",
    "cv2.drawKeypoints(image=img, keypoints=kp, outImage=img) # \n",
    "cv_show(img)"
   ]
  },
  {
   "cell_type": "code",
   "execution_count": 19,
   "metadata": {},
   "outputs": [
    {
     "name": "stdout",
     "output_type": "stream",
     "text": [
      "(6827,) [<KeyPoint 000001C622824EA0>, <KeyPoint 000001C622824F60>, <KeyPoint 000001C622824F30>]\n",
      "(800, 1200) (6827, 128) [[  0.   0.   0. ...   0.   0.   0.]\n",
      " [  0.   0.   0. ...   0.   0.   0.]\n",
      " [  5.  29. 103. ...  40. 112.  57.]\n",
      " ...\n",
      " [ 11.   9.   3. ...  51.  23.  17.]\n",
      " [ 50.  46.  22. ...   0.   0.   0.]\n",
      " [  0.   0.   0. ...  25.  60. 147.]]\n"
     ]
    }
   ],
   "source": [
    "kp, dst = sift.compute(gray, kp)\n",
    "print(np.array(kp).shape, kp[:3])\n",
    "print(gray.shape, dst.shape, dst)"
   ]
  }
 ],
 "metadata": {
  "kernelspec": {
   "display_name": "Python 3.6.13 ('py3.6.3')",
   "language": "python",
   "name": "python3"
  },
  "language_info": {
   "codemirror_mode": {
    "name": "ipython",
    "version": 3
   },
   "file_extension": ".py",
   "mimetype": "text/x-python",
   "name": "python",
   "nbconvert_exporter": "python",
   "pygments_lexer": "ipython3",
   "version": "3.6.13"
  },
  "orig_nbformat": 4,
  "vscode": {
   "interpreter": {
    "hash": "baf561accc7456e210ab0662f75436374df1fe07e221cb7d4a49586aebd0d562"
   }
  }
 },
 "nbformat": 4,
 "nbformat_minor": 2
}
