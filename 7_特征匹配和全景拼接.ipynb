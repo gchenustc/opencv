{
 "cells": [
  {
   "cell_type": "code",
   "execution_count": 1,
   "metadata": {},
   "outputs": [],
   "source": [
    "import cv2\n",
    "import numpy as np\n",
    "\n",
    "def cv_show(img,name=\"image\"):\n",
    "    cv2.imshow(name,img)\n",
    "    cv2.waitKey() #ms 不输入代表任意键销毁窗口\n",
    "    cv2.destroyAllWindows()"
   ]
  },
  {
   "cell_type": "code",
   "execution_count": 4,
   "metadata": {},
   "outputs": [],
   "source": [
    "img1 = cv2.imread('01_Picture/19_Box.png',0) # 一本书\n",
    "img2 = cv2.imread('01_Picture/20_Box_in_scene.png',0) # 多本书\n",
    "cv_show(img1)\n",
    "cv_show(img2)"
   ]
  },
  {
   "cell_type": "code",
   "execution_count": 6,
   "metadata": {},
   "outputs": [
    {
     "name": "stdout",
     "output_type": "stream",
     "text": [
      "(603, 128) (969, 128)\n"
     ]
    }
   ],
   "source": [
    "sift = cv2.xfeatures2d.SIFT_create()\n",
    "kp1, dst1 = sift.detectAndCompute(img1, None)\n",
    "kp2, dst2 = sift.detectAndCompute(img2, None)\n",
    "\n",
    "# crossCheck 表示两个特征点要互相匹配，例如 A 中的第 i 个特征点与 B 中第 j 个特征点最近的，并且 B 中第 j 个特征点到 A 中的第 i 个特征点也是最近的。      \n",
    "# 将两幅图像的特征点、特征向量算出来，用欧氏距离去比较特征向量相似性，一般情况下默认用的是归一化后的欧式距离去做，为了使得结果更均衡些。\n",
    "# 如果不用 sift 特征计算方法去做，而是用其他特征计算方法需要考虑不同的匹配方式。\n",
    "bf = cv2.BFMatcher(crossCheck = True)  # cv2.BFMatcher 蛮力匹配缩写\n",
    "print(dst1.shape, dst2.shape)"
   ]
  },
  {
   "cell_type": "markdown",
   "metadata": {},
   "source": [
    "## 一对一的匹配"
   ]
  },
  {
   "cell_type": "code",
   "execution_count": 17,
   "metadata": {},
   "outputs": [
    {
     "name": "stdout",
     "output_type": "stream",
     "text": [
      "shape: (392,)\n",
      "[<DMatch 0000019A063EC150>, <DMatch 0000019A063EC070>, <DMatch 0000019A063EC530>]\n"
     ]
    },
    {
     "data": {
      "text/plain": [
       "[212.0023651123047,\n",
       " 244.86526489257812,\n",
       " 119.62859344482422,\n",
       " 341.0909118652344,\n",
       " 296.07598876953125]"
      ]
     },
     "execution_count": 17,
     "metadata": {},
     "output_type": "execute_result"
    }
   ],
   "source": [
    "matches = bf.match(dst1,dst2)\n",
    "print(\"shape:\",np.array(matches).shape) # 匹配得到的一对一的结果\n",
    "print(matches[:3])\n",
    "list(map(lambda x: x.distance, matches))[:5]"
   ]
  },
  {
   "cell_type": "code",
   "execution_count": 21,
   "metadata": {},
   "outputs": [],
   "source": [
    "# 把匹配得到的结果从小到大排序\n",
    "matches = sorted(matches, key = lambda x: x.distance)\n",
    "img3 = cv2.drawMatches(img1, kp1, img2, kp2, matches[:3], outImg=None, flags=2)\n",
    "cv_show(img3)"
   ]
  },
  {
   "cell_type": "markdown",
   "metadata": {},
   "source": [
    "# K对最佳匹配"
   ]
  },
  {
   "cell_type": "code",
   "execution_count": 64,
   "metadata": {},
   "outputs": [
    {
     "name": "stdout",
     "output_type": "stream",
     "text": [
      "[<DMatch 0000019A05886EF0>, <DMatch 0000019A06566530>]\n",
      "336 0\n",
      "717 0\n",
      "336 1\n",
      "717 1\n",
      "941 2\n",
      "851 2\n"
     ]
    }
   ],
   "source": [
    "bf = cv2.BFMatcher()\n",
    "\n",
    "sift = cv2.xfeatures2d.SIFT_create()\n",
    "kp1, dst1 = sift.detectAndCompute(img1, None)\n",
    "kp2, dst2 = sift.detectAndCompute(img2, None)\n",
    "\n",
    "matches = bf.knnMatch(dst1, dst2, k=2) # k=2 意味着 1v2 匹配\n",
    "\n",
    "print(matches[0]) # 内有两个元素 [<DMatch 0000019A063EC3F0>, <DMatch 0000019A04AF65D0>]\n",
    "\n",
    "# queryIdx: 待匹配图片特征索引, trainIdx: 被匹配图片的特征索引\n",
    "print(matches[0][0].trainIdx, matches[0][0].queryIdx)\n",
    "print(matches[0][1].trainIdx, matches[0][1].queryIdx)\n",
    "print(matches[1][0].trainIdx, matches[1][0].queryIdx)\n",
    "print(matches[1][1].trainIdx, matches[1][1].queryIdx)\n",
    "print(matches[2][0].trainIdx, matches[2][0].queryIdx)\n",
    "print(matches[2][1].trainIdx, matches[2][1].queryIdx)"
   ]
  },
  {
   "cell_type": "code",
   "execution_count": 65,
   "metadata": {},
   "outputs": [],
   "source": [
    "img3 = cv2.drawMatchesKnn(img1, kp1, img2, kp2, matches[:3], None, flags=2)\n",
    "cv_show(img3)"
   ]
  },
  {
   "cell_type": "code",
   "execution_count": 44,
   "metadata": {},
   "outputs": [],
   "source": [
    "matches = list(np.array(matches).flatten())\n",
    "\n",
    "img3 = cv2.drawMatches(img1, kp1, img2, kp2, matches[:4], None, flags=2)\n",
    "cv_show(img3)"
   ]
  },
  {
   "cell_type": "markdown",
   "metadata": {},
   "source": [
    "## 全景拼接"
   ]
  },
  {
   "cell_type": "code",
   "execution_count": 94,
   "metadata": {},
   "outputs": [],
   "source": [
    "import numpy as np\n",
    "import cv2\n",
    "\n",
    "class Stitcher(object):\n",
    "    \n",
    "    # 拼接函数\n",
    "    def stitch(self, imgs, ratio=0.75, reprojThresh=4):\n",
    "        \"\"\"\n",
    "        reprojThresh: RANSAC的重投影门限，即最小特征对数\n",
    "        \"\"\"\n",
    "        imgB, imgA = imgs\n",
    "        kpsA, featuresA = self.detectAndDescribe(imgA)\n",
    "        kpsB, featuresB = self.detectAndDescribe(imgB)\n",
    "\n",
    "        ret = self.matchKeyPoints(kpsA, kpsB, featuresA, featuresB, ratio, reprojThresh)\n",
    "\n",
    "        if ret is None: return None\n",
    "\n",
    "        (matches, H, status) = ret\n",
    "        \n",
    "        # 将图片A进行变换\n",
    "        result = cv2.warpPerspective(imgA, H, dsize=(imgA.shape[1]+imgB.shape[1], imgA.shape[0]))\n",
    "\n",
    "        # 将图片B覆盖到A上\n",
    "        result[0:imgB.shape[0], 0:imgB.shape[1]] = imgB\n",
    "\n",
    "        # vis = self.drawMatches(imgA, imgB, kpsA, kpsB, matches, status)\n",
    "        # 返回结果\n",
    "        return result\n",
    "        \n",
    "    def cv_show(self,name,img):\n",
    "        cv2.imshow(name, img)\n",
    "        cv2.waitKey(0)\n",
    "        cv2.destroyAllWindows() \n",
    "\n",
    "    def detectAndDescribe(self, img):\n",
    "        \"\"\"\n",
    "        得到图片的特征点和描述\n",
    "        \"\"\"\n",
    "        gray = cv2.cvtColor(img, cv2.COLOR_BGR2GRAY)\n",
    "        sift = cv2.xfeatures2d.SIFT_create()\n",
    "        kps, features = sift.detectAndCompute(img, None)\n",
    "\n",
    "        # ! 将结果转为 numpy 数组\n",
    "        # pt 为特征点坐标\n",
    "        kps = np.float32([kp.pt for kp in kps])\n",
    "        # print(kps[:3])\n",
    "        \"\"\"\n",
    "        [[  2.8513205 362.22076  ]\n",
    "        [  5.0001354 229.0246   ]\n",
    "        [  5.9197574 139.2678   ]]\n",
    "        \"\"\"\n",
    "        return kps, features\n",
    "    \n",
    "    def matchKeyPoints(self, kpsA, kpsB, featuresA, featuresB, ratio, reprojThresh):\n",
    "        match = cv2.BFMatcher()\n",
    "        matches_raw = match.knnMatch(featuresA, featuresB, 2)\n",
    "        \n",
    "        matches = []\n",
    "\n",
    "        for m in matches_raw:\n",
    "            if m[0].distance < ratio * m[1].distance:\n",
    "                matches.append([m[0].queryIdx, m[0].trainIdx])\n",
    "        \n",
    "        # ptsA, ptsB 分别是 图A和图B的特征点坐标数组\n",
    "        if len(matches) >= 4:\n",
    "            ptsA =np.float32([kpsA[i] for i,_ in matches])\n",
    "            ptsB =np.float32([kpsB[i] for _,i in matches])\n",
    "\n",
    "            (H, status) = cv2.findHomography(ptsA, ptsB, cv2.RANSAC, reprojThresh)\n",
    "\n",
    "            return matches, H, status\n",
    "        \n",
    "        return None\n",
    "\n",
    "    def drawMatches(self, imageA, imageB, kpsA, kpsB, matches, status):\n",
    "        # 初始化可视化图片，将A、B图左右连接到一起\n",
    "        (hA, wA) = imageA.shape[:2]\n",
    "        (hB, wB) = imageB.shape[:2]\n",
    "        vis = np.zeros((max(hA, hB), wA + wB, 3), dtype=\"uint8\")\n",
    "        vis[0:hA, 0:wA] = imageA\n",
    "        vis[0:hB, wA:] = imageB\n",
    "\n",
    "        # 联合遍历，画出匹配对\n",
    "        for ((trainIdx, queryIdx), s) in zip(matches, status):\n",
    "            # 当点对匹配成功时，画到可视化图上\n",
    "            if s == 1:\n",
    "                # 画出匹配对\n",
    "                ptA = (int(kpsA[queryIdx][0]), int(kpsA[queryIdx][1]))\n",
    "                ptB = (int(kpsB[trainIdx][0]) + wA, int(kpsB[trainIdx][1]))\n",
    "                cv2.line(vis, ptA, ptB, (0, 255, 0), 1)\n",
    "\n",
    "        # 返回可视化结果\n",
    "        return vis"
   ]
  },
  {
   "cell_type": "code",
   "execution_count": 105,
   "metadata": {},
   "outputs": [
    {
     "data": {
      "text/plain": [
       "True"
      ]
     },
     "execution_count": 105,
     "metadata": {},
     "output_type": "execute_result"
    }
   ],
   "source": [
    "import cv2\n",
    "# 读取拼接图片\n",
    "imageA = cv2.imread(\"01_Picture/demo_left.jpg\")\n",
    "imageB = cv2.imread(\"01_Picture/demo_right.jpg\")\n",
    "# cv_show(imageA)\n",
    "# cv_show(imageB)\n",
    "\n",
    "stitcher = Stitcher()\n",
    "# vis: 匹配结果\n",
    "result = stitcher.stitch([imageA, imageB])\n",
    "cv2.imwrite(\"stitcher_pic.jpg\", result)"
   ]
  },
  {
   "cell_type": "code",
   "execution_count": 102,
   "metadata": {},
   "outputs": [
    {
     "data": {
      "text/plain": [
       "True"
      ]
     },
     "execution_count": 102,
     "metadata": {},
     "output_type": "execute_result"
    }
   ],
   "source": [
    "# 拼接三张\n",
    "import cv2\n",
    "# 读取拼接图片\n",
    "imageA = cv2.imread(\"01_Picture/1.jpg\")\n",
    "imageB = cv2.imread(\"01_Picture/2.jpg\")\n",
    "imageC = cv2.imread(\"01_Picture/3.jpg\")\n",
    "# cv_show(imageA)\n",
    "# cv_show(imageB)\n",
    "\n",
    "stitcher = Stitcher()\n",
    "# vis: 匹配结果\n",
    "imageAB = stitcher.stitch([imageA, imageB])\n",
    "result = stitcher.stitch([imageAB, imageC])\n",
    "cv2.imwrite(\"stitcher_pic.jpg\", result)"
   ]
  }
 ],
 "metadata": {
  "kernelspec": {
   "display_name": "Python 3.6.13 ('py3.6.3')",
   "language": "python",
   "name": "python3"
  },
  "language_info": {
   "codemirror_mode": {
    "name": "ipython",
    "version": 3
   },
   "file_extension": ".py",
   "mimetype": "text/x-python",
   "name": "python",
   "nbconvert_exporter": "python",
   "pygments_lexer": "ipython3",
   "version": "3.6.13"
  },
  "orig_nbformat": 4,
  "vscode": {
   "interpreter": {
    "hash": "baf561accc7456e210ab0662f75436374df1fe07e221cb7d4a49586aebd0d562"
   }
  }
 },
 "nbformat": 4,
 "nbformat_minor": 2
}
