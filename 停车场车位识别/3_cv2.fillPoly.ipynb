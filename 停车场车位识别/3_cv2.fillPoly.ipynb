{
 "cells": [
  {
   "cell_type": "code",
   "execution_count": 2,
   "metadata": {},
   "outputs": [],
   "source": [
    "import cv2\n",
    "import glob\n",
    "import matplotlib.pyplot as plt\n",
    "from ParkingFunc import Parking\n",
    "import numpy as np\n",
    "park = Parking()\n",
    "path_test_images = f\"data\\\\test_images\"\n",
    "test_image = [plt.imread(path) for path in glob.glob(path_test_images+\"\\\\*.jpg\")][0]"
   ]
  },
  {
   "cell_type": "code",
   "execution_count": 3,
   "metadata": {},
   "outputs": [
    {
     "name": "stdout",
     "output_type": "stream",
     "text": [
      "(1, 4, 2)\n"
     ]
    }
   ],
   "source": [
    "points = np.array([[[200,200], [400,400], [200,0], [400,0]]])\n",
    "print(points.shape) # (1,4,2)\n",
    "cv2.fillPoly(test_image, points, (255,255,255))\n",
    "for point in points[0]:\n",
    "    cv2.circle(test_image, tuple(point), 10, (0,0,255), 4)\n",
    "park.cv_show(test_image)"
   ]
  },
  {
   "cell_type": "code",
   "execution_count": null,
   "metadata": {},
   "outputs": [],
   "source": []
  },
  {
   "cell_type": "code",
   "execution_count": null,
   "metadata": {},
   "outputs": [],
   "source": []
  }
 ],
 "metadata": {
  "kernelspec": {
   "display_name": "Python 3.6.13 ('py3.6.3')",
   "language": "python",
   "name": "python3"
  },
  "language_info": {
   "codemirror_mode": {
    "name": "ipython",
    "version": 3
   },
   "file_extension": ".py",
   "mimetype": "text/x-python",
   "name": "python",
   "nbconvert_exporter": "python",
   "pygments_lexer": "ipython3",
   "version": "3.6.13"
  },
  "orig_nbformat": 4,
  "vscode": {
   "interpreter": {
    "hash": "baf561accc7456e210ab0662f75436374df1fe07e221cb7d4a49586aebd0d562"
   }
  }
 },
 "nbformat": 4,
 "nbformat_minor": 2
}
