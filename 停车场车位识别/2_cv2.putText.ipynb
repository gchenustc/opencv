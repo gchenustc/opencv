{
 "cells": [
  {
   "cell_type": "code",
   "execution_count": 2,
   "metadata": {},
   "outputs": [],
   "source": [
    "import numpy as np\n",
    "import cv2\n",
    "def cv_show(img,name=\"image\"):\n",
    "    cv2.imshow(name,img)\n",
    "    cv2.waitKey() #ms 不输入代表任意键销毁窗口\n",
    "    cv2.destroyAllWindows()"
   ]
  },
  {
   "cell_type": "code",
   "execution_count": 8,
   "metadata": {},
   "outputs": [],
   "source": [
    "img = np.full((400,400), 255, dtype=np.uint8)\n",
    "#    /照片   /添加的文字    /左下角坐标  /字体   /字体大小 /颜色 /字体粗细\n",
    "cv2.putText(img,\"Hello_World\",(100,100),cv2.FONT_HERSHEY_COMPLEX,1,(0,0,255),2)\n",
    "cv2.putText(img,\"Hello_World\",(100,200),cv2.FONT_HERSHEY_SIMPLEX,1,(0,0,255),2)\n",
    "cv2.putText(img,\"Hello_World\",(100,300),cv2.FONT_HERSHEY_DUPLEX,1,(0,0,255),2)\n",
    "cv2.putText(img,\"Hello_World\",(100,350),cv2.FONT_HERSHEY_PLAIN,1,(0,0,255),2)\n",
    "\n",
    "cv_show(img)"
   ]
  },
  {
   "cell_type": "code",
   "execution_count": null,
   "metadata": {},
   "outputs": [],
   "source": []
  }
 ],
 "metadata": {
  "kernelspec": {
   "display_name": "Python 3.6.13 ('py3.6.3')",
   "language": "python",
   "name": "python3"
  },
  "language_info": {
   "codemirror_mode": {
    "name": "ipython",
    "version": 3
   },
   "file_extension": ".py",
   "mimetype": "text/x-python",
   "name": "python",
   "nbconvert_exporter": "python",
   "pygments_lexer": "ipython3",
   "version": "3.6.13"
  },
  "orig_nbformat": 4,
  "vscode": {
   "interpreter": {
    "hash": "baf561accc7456e210ab0662f75436374df1fe07e221cb7d4a49586aebd0d562"
   }
  }
 },
 "nbformat": 4,
 "nbformat_minor": 2
}
